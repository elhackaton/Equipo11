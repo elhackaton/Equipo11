{
 "metadata": {
  "name": ""
 },
 "nbformat": 3,
 "nbformat_minor": 0,
 "worksheets": [
  {
   "cells": [
    {
     "cell_type": "markdown",
     "metadata": {},
     "source": [
      "# Proyecto A4A (Access for All), an\u00e1lisis de datos con iPython\n",
      "\n",
      "La idea principal de A4A es la de conseguir datos de accesivilidad que sean subidos por los propios usuarios a una plataforma.\n",
      "Los puntos de inter\u00e9s seran de dos tipos : de accesivilidad positiva o negativa.\n",
      "\n",
      "A los usuarios se les incentiva con unos premios, de tal manera que el que mande mas items ser\u00e1 el que tenga m\u00e1s posibilidades de ganar.\n",
      "Tambi\u00e9n se les dar\u00e1n premios a las administraciones (ciudades o pueblos) que tengan mejores estad\u00edsticas.\n",
      "\n",
      "Esta idea seria f\u00e1cilmente exportable a otro tipo de \u00e1mbitos: puntos negros en carreteras por ejemplo.\n",
      "\n"
     ]
    },
    {
     "cell_type": "markdown",
     "metadata": {},
     "source": [
      "## Motivaci\u00f3n de este notebook\n",
      "\n",
      "La principal motivacion de este notebook es la de practicar las herramientas pandas, matplotlib, etc ... de gesti\u00f3n y visualizaci\u00f3n de datos, para ello se seguir\u00e1 el siguiente flujo de trabajo:\n",
      "\n",
      "* Generacion de una bateria de datos que simulen el comportamiento temporal y geogr\u00e1fico de los usuarios y administraciones\n",
      "* Tratamiento de estos datos por parte de pandas\n",
      "* Visualizaci\u00f3n de los datos con gr\u00e1ficas matplotlib\n",
      "* An\u00e1lisis de los datos y busqueda de regularidades e hitos \n",
      "\n",
      "En una siguiente fase se intentar\u00e1 trabajar con datos reales, por ejemplo con datos de accidentes de tr\u00e1fico sacados de alguna web oficial o del twitter (#accidente) para detectar posibles puntos negros"
     ]
    },
    {
     "cell_type": "code",
     "collapsed": false,
     "input": [
      "# Importando las librerias necesarias\n",
      "\n",
      "from pylab import *\n",
      "from mpl_toolkits.basemap import Basemap\n",
      "import matplotlib.pyplot as plt\n",
      "import math\n",
      "import numpy as np\n",
      "import random\n",
      "from datetime import datetime\n",
      "import pandas as pd"
     ],
     "language": "python",
     "metadata": {},
     "outputs": [],
     "prompt_number": 30
    },
    {
     "cell_type": "code",
     "collapsed": false,
     "input": [
      "%pylab inline"
     ],
     "language": "python",
     "metadata": {},
     "outputs": [
      {
       "output_type": "stream",
       "stream": "stdout",
       "text": [
        "Populating the interactive namespace from numpy and matplotlib\n"
       ]
      },
      {
       "output_type": "stream",
       "stream": "stderr",
       "text": [
        "WARNING: pylab import has clobbered these variables: ['power', 'draw_if_interactive', 'random', 'datetime', 'fft', 'load', 'save', 'linalg', 'info']\n",
        "`%pylab --no-import-all` prevents importing * from pylab and numpy\n"
       ]
      }
     ],
     "prompt_number": 25
    },
    {
     "cell_type": "markdown",
     "metadata": {},
     "source": [
      "## Generando Datasets de prueba \n",
      "\n",
      "Cada usuario, cuando manda un aviso da la siguiente informaci\u00f3n:\n",
      "\n",
      "* n\u00famero de telefono\n",
      "* localizaci\u00f3n (longitud y latitud geogr\u00e1fica)\n",
      "* fecha y hora\n",
      "* voto (+1 o -1 seg\u00fan sea positivo o negativo)\n",
      "* comentario\n",
      "* foto\n",
      "\n",
      "Vamos a generar un dataset de prueba suponiendo que han llegado 150 votaciones en un intervalo temporal de un a\u00f1o.\n",
      "Se supone adem\u00e1s que un mismo usuario puede mandar muchos votos, incluso del mismo lugar (esto luego tendr\u00e1 que ser filtrado por el sistema para dejar solo un voto por usuario y lugar), aunque nada impide que un usuario mande m\u00e1s de un voto, siempre que sean de distintos lugares .\n",
      "\n",
      "Aunque la mayor\u00eda de los 150 votos sean aleatorios, se generar\u00e1n algunos votos con coordenadas fijas correspondientes a dos ciudades, Sevilla y Madrid. Con mayoria de votos positivos en Sevilla y mayoria de negativos en Madrid.\n",
      "\n",
      "En la siguiente serie temporal se cambiar\u00e1 esta tendencia y se intentar\u00e1 que el sistema detecte este cambio\n",
      "\n",
      "\n"
     ]
    },
    {
     "cell_type": "code",
     "collapsed": false,
     "input": [
      "# Variables globales del Dateset\n",
      "SAMPLE_SIZE = 150\n",
      "\n",
      "telefonos = []\n",
      "comentarios = []\n",
      "fotos = []\n",
      "latitudes = []\n",
      "longitudes = []\n",
      "fechas = []\n",
      "\n",
      "# TODO: hacerlo como un \u00fanico diccionario"
     ],
     "language": "python",
     "metadata": {},
     "outputs": []
    },
    {
     "cell_type": "code",
     "collapsed": false,
     "input": [
      "\n",
      "\n",
      "# seed random generator\n",
      "# if no argument provided\n",
      "# uses system current time\n",
      "random.seed()\n",
      "\n",
      "#Generando datos aleatorios\n",
      "\n",
      "#Genero 100 telefonos distintos y como el tama\u00f1o de la muestra sera de 150 nos aseguramos la repeticion de usuarios\n",
      "telefonos = ['600' +str(random.randint(123400,123499)) for _ in range(SAMPLE_SIZE)]\n",
      "comentarios = ['']*SAMPLE_SIZE\n",
      "fotos = ['']*SAMPLE_SIZE\n",
      "\n",
      "#Simulo la presencia de dos grandes ciudades: Madrid y Sevilla con un alto grado de incidencias \n",
      "# (con la mitad de las incidencias entre las dos)\n",
      "# La mitad de datos aleatorios\n",
      "latitudes = [random.uniform(37, 42) for _ in range(SAMPLE_SIZE/2)] \n",
      "longitudes = [random.uniform(-8, -2) for _ in range(SAMPLE_SIZE/2)]\n",
      "# Un cuarto de datos de Sevilla\n",
      "latitudes += [37.382 for _ in range(SAMPLE_SIZE/4)] \n",
      "longitudes += [-5.982 for _ in range(SAMPLE_SIZE/4)]\n",
      "# Un cuarto de datos de Madrid\n",
      "latitudes += [40.115 for _ in range(SAMPLE_SIZE/4 + 1)] \n",
      "longitudes += [-3.988 for _ in range(SAMPLE_SIZE/4 + 1)]\n",
      "\n",
      "# La mitad de datos aleatorios\n",
      "votaciones = [random.choice([-1, 1]) for _ in range(SAMPLE_SIZE/2)]\n",
      "\n",
      "# Votaciones sesgadas hacia el positivo en el cuarto de datos de Sevilla\n",
      "# Defino el dado cargado \n",
      "media = 0.7\n",
      "desviacion_estandar = 0.3\n",
      "votaciones += [ 1 if random.normalvariate(media, desviacion_estandar) >= 0.5 else -1 for _ in range(SAMPLE_SIZE/4)]\n",
      "# Votaciones sesgadas hacia el negativo en el cuarto de datos de Madrid\n",
      "votaciones += [ -1 if random.normalvariate(media, desviacion_estandar) >= 0.5 else 1 for _ in range(SAMPLE_SIZE/4 + 1)]\n",
      "\n",
      "fechas = [datetime(random.randint(2012,2013), random.randint(1,12), random.randint(1,28)) for _ in range(SAMPLE_SIZE)]\n",
      "\n",
      "print votaciones[:9]\n",
      "print votaciones[75:100]\n",
      "print votaciones[100:149]\n",
      "print \"\"\n",
      "print longitudes[70:90]\n",
      "print longitudes[100:120]\n"
     ],
     "language": "python",
     "metadata": {},
     "outputs": [
      {
       "output_type": "stream",
       "stream": "stdout",
       "text": [
        "[-1, 1, 1, 1, -1, 1, -1, 1, 1]\n",
        "[1, 1, 1, 1, 1, -1, 1, -1, 1, 1, 1, 1, -1, 1, -1, 1, 1, 1, 1, -1, -1, 1, 1, 1, 1]\n",
        "[-1, 1, 1, 1, 1, 1, 1, 1, -1, 1, 1, -1, -1, -1, 1, -1, -1, -1, -1, -1, -1, -1, -1, -1, 1, 1, -1, -1, -1, -1, -1, 1, -1, -1, -1, -1, -1, 1, -1, 1, 1, -1, -1, -1, -1, -1, -1, -1, 1]\n",
        "\n",
        "[-4.773473624205076, -2.8805022896237293, -2.209599379700892, -7.857229091385908, -3.1301179149758482, -5.982, -5.982, -5.982, -5.982, -5.982, -5.982, -5.982, -5.982, -5.982, -5.982, -5.982, -5.982, -5.982, -5.982, -5.982]\n",
        "[-5.982, -5.982, -5.982, -5.982, -5.982, -5.982, -5.982, -5.982, -5.982, -5.982, -5.982, -5.982, -3.988, -3.988, -3.988, -3.988, -3.988, -3.988, -3.988, -3.988]\n"
       ]
      }
     ],
     "prompt_number": 34
    },
    {
     "cell_type": "markdown",
     "metadata": {},
     "source": [
      "## Pasando los datos a Pandas "
     ]
    },
    {
     "cell_type": "code",
     "collapsed": false,
     "input": [
      "data = {'telefono': telefonos,\n",
      "        'coordenadas':zip(longitudes,latitudes),\n",
      "        'voto':votaciones,\n",
      "        'fecha':fechas,\n",
      "        'foto': fotos,\n",
      "        'comentario': comentarios}\n",
      "\n",
      "df = pd.DataFrame(data, columns=['telefono','coordenadas','voto','fecha'])\n",
      "\n",
      "#Guardo los datos en un csv\n",
      "df.to_csv('votaciones.csv')\n",
      "\n",
      "agrupados_por_coords = df['voto'].groupby(df['coordenadas'])\n",
      "coords_iguales = agrupados_por_coords.sum()\n",
      "\n",
      "print coords_iguales[coords_iguales == coords_iguales[coords_iguales > 1].max()].index\n",
      "print coords_iguales[coords_iguales > 1].index\n",
      "print coords_iguales[coords_iguales > 1][0]\n",
      "print coords_iguales[(-3.988, 40.115)]\n",
      "print coords_iguales[coords_iguales > 1].max()"
     ],
     "language": "python",
     "metadata": {},
     "outputs": [
      {
       "output_type": "stream",
       "stream": "stdout",
       "text": [
        "array([(-5.982, 37.382)], dtype=object)\n",
        "array([(-5.982, 37.382)], dtype=object)\n",
        "19.0\n",
        "-22.0\n",
        "19.0\n"
       ]
      }
     ],
     "prompt_number": 35
    },
    {
     "cell_type": "markdown",
     "metadata": {},
     "source": [
      "## Visualizando el Dataset"
     ]
    },
    {
     "cell_type": "code",
     "collapsed": false,
     "input": [
      "# make sure the value of resolution is a lowercase L,\n",
      "#  for 'low', not a numeral 1\n",
      "map = Basemap(projection='merc', lat_0=40, lon_0=-4,\n",
      "    resolution = 'h', area_thresh = 200,\n",
      "    llcrnrlon=-11, llcrnrlat=35,\n",
      "    urcrnrlon=5.5, urcrnrlat=45)\n",
      "\n",
      "map.drawcoastlines()\n",
      "map.drawcountries()\n",
      "map.fillcontinents(color='#99ffff')\n",
      "map.drawmapboundary()\n",
      "\n",
      "\n",
      "#Marcando puntos\n",
      "msize = 4\n",
      "aumentador = 1\n",
      "for lon, lat, voto in zip(longitudes, latitudes, votaciones):\n",
      "    x,y= map(lon, lat)\n",
      "    if (lon,lat) in coords_iguales[coords_iguales > 1].index:      \n",
      "        aumentador = 1 + 20*coords_iguales[(lon,lat)] / SAMPLE_SIZE\n",
      "    if voto == 1:\n",
      "        map.plot(x, y, 'go', markersize=msize*aumentador)\n",
      "    elif voto == -1:\n",
      "        map.plot(x, y, 'ro', markersize=msize*aumentador)\n",
      "    else:\n",
      "        map.plot(x, y, 'ko', markersize=msize)\n",
      "    \n",
      "\n",
      "#labels = ['Primer premio', 'Segundo premio', 'Tercer Premio']\n",
      "#for  xpt, ypt ,voto in zip( x, y,votaciones,):\n",
      "#    plt.text(xpt+15000, ypt+5000, str(voto))\n",
      "#print apariciones\n",
      "plt.show()\n"
     ],
     "language": "python",
     "metadata": {},
     "outputs": [
      {
       "metadata": {},
       "output_type": "display_data",
       "png": "[encoded data removed]",
       "text": [
        "<matplotlib.figure.Figure at 0xa26888c>"
       ]
      }
     ],
     "prompt_number": 36
    },
    {
     "cell_type": "markdown",
     "metadata": {},
     "source": [
      "## Sorteos"
     ]
    },
    {
     "cell_type": "code",
     "collapsed": false,
     "input": [
      "# Premio al usuario\n",
      "print df.ix[random.randint(0,SAMPLE_SIZE)]\n",
      "# Premio al lugar\n",
      "print coords_iguales[coords_iguales == coords_iguales[coords_iguales > 1].max()].index"
     ],
     "language": "python",
     "metadata": {},
     "outputs": [
      {
       "output_type": "stream",
       "stream": "stdout",
       "text": [
        "telefono                 600123475\n",
        "coordenadas       (-3.988, 40.115)\n",
        "voto                             1\n",
        "fecha          2012-03-19 00:00:00\n",
        "Name: 130\n",
        "array([(-5.982, 37.382)], dtype=object)\n"
       ]
      }
     ],
     "prompt_number": 28
    },
    {
     "cell_type": "markdown",
     "metadata": {},
     "source": [
      "## Siguiente a\u00f1o del Sorteo\n"
     ]
    },
    {
     "cell_type": "code",
     "collapsed": false,
     "input": [
      "# Suponemos que  Sevilla mejora\n",
      "\n",
      "SAMPLE_SIZE = 300\n",
      "\n",
      "# seed random generator\n",
      "# if no argument provided\n",
      "# uses system current time\n",
      "random.seed()\n",
      "\n",
      "#Generando datos aleatorios\n",
      "\n",
      "#Genero 100 telefonos distintos y como el tama\u00f1o de la muestra sera de 150 nos aseguramos la repeticion de usuarios\n",
      "telefonos += ['600' +str(random.randint(123400,123499)) for _ in range(SAMPLE_SIZE + 1)]\n",
      "comentarios += ['']*SAMPLE_SIZE\n",
      "fotos += ['']*SAMPLE_SIZE\n",
      "\n",
      "#Simulo la presencia de dos grandes ciudades: Madrid y Sevilla con un alto grado de incidencias \n",
      "# (con la mitad de las incidencias entre las dos)\n",
      "# La mitad de datos aleatorios\n",
      "latitudes += [random.uniform(37, 42) for _ in range(SAMPLE_SIZE/2)] \n",
      "longitudes += [random.uniform(-8, -2) for _ in range(SAMPLE_SIZE/2)]\n",
      "# Un cuarto de datos de Sevilla\n",
      "latitudes += [37.382 for _ in range(SAMPLE_SIZE/4)] \n",
      "longitudes += [-5.982 for _ in range(SAMPLE_SIZE/4)]\n",
      "# Un cuarto de datos de Madrid\n",
      "latitudes += [40.115 for _ in range(SAMPLE_SIZE/4 + 1)] \n",
      "longitudes += [-3.988 for _ in range(SAMPLE_SIZE/4 + 1)]\n",
      "\n",
      "# La mitad de datos aleatorios\n",
      "votaciones += [random.choice([-1, 1]) for _ in range(SAMPLE_SIZE/2)]\n",
      "votaciones += [ 1 for _ in range(SAMPLE_SIZE/4)] \n",
      "# Votaciones sesgadas hacia el positivo en el cuarto de datos de Madrid\n",
      "votaciones += [ random.choice([-1, 1]) for _ in range(SAMPLE_SIZE/4 + 1)]\n",
      "\n",
      "fechas += [datetime(random.randint(2014,2015), random.randint(1,11), random.randint(1,28)) for _ in range(SAMPLE_SIZE+1)]\n",
      "\n",
      "print telefonos[:9]\n",
      "print votaciones[:9]\n",
      "print fechas[:9]\n",
      "print \"\"\n",
      "print len(telefonos),len(longitudes), len(latitudes),len(votaciones),len(fechas)\n",
      "print longitudes[290:]\n",
      "print latitudes[290:]"
     ],
     "language": "python",
     "metadata": {},
     "outputs": [
      {
       "ename": "AttributeError",
       "evalue": "'module' object has no attribute 'choice'",
       "output_type": "pyerr",
       "traceback": [
        "\u001b[1;31m---------------------------------------------------------------------------\u001b[0m\n\u001b[1;31mAttributeError\u001b[0m                            Traceback (most recent call last)",
        "\u001b[1;32m<ipython-input-29-c467a0d2f31e>\u001b[0m in \u001b[0;36m<module>\u001b[1;34m()\u001b[0m\n\u001b[0;32m     28\u001b[0m \u001b[1;33m\u001b[0m\u001b[0m\n\u001b[0;32m     29\u001b[0m \u001b[1;31m# La mitad de datos aleatorios\u001b[0m\u001b[1;33m\u001b[0m\u001b[1;33m\u001b[0m\u001b[0m\n\u001b[1;32m---> 30\u001b[1;33m \u001b[0mvotaciones\u001b[0m \u001b[1;33m+=\u001b[0m \u001b[1;33m[\u001b[0m\u001b[0mrandom\u001b[0m\u001b[1;33m.\u001b[0m\u001b[0mchoice\u001b[0m\u001b[1;33m(\u001b[0m\u001b[1;33m[\u001b[0m\u001b[1;33m-\u001b[0m\u001b[1;36m1\u001b[0m\u001b[1;33m,\u001b[0m \u001b[1;36m1\u001b[0m\u001b[1;33m]\u001b[0m\u001b[1;33m)\u001b[0m \u001b[1;32mfor\u001b[0m \u001b[0m_\u001b[0m \u001b[1;32min\u001b[0m \u001b[0mrange\u001b[0m\u001b[1;33m(\u001b[0m\u001b[0mSAMPLE_SIZE\u001b[0m\u001b[1;33m/\u001b[0m\u001b[1;36m2\u001b[0m\u001b[1;33m)\u001b[0m\u001b[1;33m]\u001b[0m\u001b[1;33m\u001b[0m\u001b[0m\n\u001b[0m\u001b[0;32m     31\u001b[0m \u001b[0mvotaciones\u001b[0m \u001b[1;33m+=\u001b[0m \u001b[1;33m[\u001b[0m \u001b[1;36m1\u001b[0m \u001b[1;32mfor\u001b[0m \u001b[0m_\u001b[0m \u001b[1;32min\u001b[0m \u001b[0mrange\u001b[0m\u001b[1;33m(\u001b[0m\u001b[0mSAMPLE_SIZE\u001b[0m\u001b[1;33m/\u001b[0m\u001b[1;36m4\u001b[0m\u001b[1;33m)\u001b[0m\u001b[1;33m]\u001b[0m\u001b[1;33m\u001b[0m\u001b[0m\n\u001b[0;32m     32\u001b[0m \u001b[1;31m# Votaciones sesgadas hacia el positivo en el cuarto de datos de Madrid\u001b[0m\u001b[1;33m\u001b[0m\u001b[1;33m\u001b[0m\u001b[0m\n",
        "\u001b[1;31mAttributeError\u001b[0m: 'module' object has no attribute 'choice'"
       ]
      }
     ],
     "prompt_number": 29
    },
    {
     "cell_type": "markdown",
     "metadata": {},
     "source": [
      "## Estudio de la evolucion temporal de los datos"
     ]
    },
    {
     "cell_type": "code",
     "collapsed": false,
     "input": [
      "data = {'telefono': telefonos,\n",
      "        'coordenadas':zip(longitudes,latitudes),\n",
      "        'voto':votaciones,\n",
      "        'fecha':fechas,\n",
      "        'foto': fotos,\n",
      "        'comentario': comentarios}\n",
      "\n",
      "df = pd.DataFrame(data, columns=['telefono','coordenadas','voto','fecha'])\n",
      "\n",
      "#Guardo los datos en un csv\n",
      "df.to_csv('votaciones.csv')\n",
      "\n",
      "agrupados_por_coords = df['voto'].groupby(df['coordenadas'])\n",
      "coords_iguales = agrupados_por_coords.sum()\n",
      "\n",
      "fig = plt.figure()\n",
      "ax = fig.add_subplot(1, 1, 1)\n",
      "\n",
      "data = df['voto'].cumsum()\n",
      "data.plot(ax=ax)\n",
      "\n",
      "\n",
      "\n"
     ],
     "language": "python",
     "metadata": {},
     "outputs": []
    },
    {
     "cell_type": "code",
     "collapsed": false,
     "input": [],
     "language": "python",
     "metadata": {},
     "outputs": []
    }
   ],
   "metadata": {}
  }
 ]
}