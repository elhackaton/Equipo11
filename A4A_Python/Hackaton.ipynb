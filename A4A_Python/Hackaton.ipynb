{
 "metadata": {
  "name": ""
 },
 "nbformat": 3,
 "nbformat_minor": 0,
 "worksheets": [
  {
   "cells": [
    {
     "cell_type": "markdown",
     "metadata": {},
     "source": [
      "# Proyecto A4A (Access for All), an\u00e1lisis de datos con iPython\n",
      "\n",
      "La idea principal de A4A es la de conseguir datos de accesivilidad que sean subidos por los propios usuarios a una plataforma.\n",
      "Los puntos de inter\u00e9s seran de dos tipos : de accesivilidad positiva o negativa.\n",
      "\n",
      "A los usuarios se les incentiva con unos premios, de tal manera que el que mande mas items ser\u00e1 el que tenga m\u00e1s posibilidades de ganar.\n",
      "Tambi\u00e9n se les dar\u00e1n premios a las administraciones (ciudades o pueblos) que tengan mejores estad\u00edsticas.\n",
      "\n",
      "Esta idea seria f\u00e1cilmente exportable a otro tipo de \u00e1mbitos: puntos negros en carreteras por ejemplo.\n",
      "\n"
     ]
    },
    {
     "cell_type": "markdown",
     "metadata": {},
     "source": [
      "## Motivaci\u00f3n de este notebook\n",
      "\n",
      "La principal motivacion de este notebook es la de practicar las herramientas pandas, matplotlib, etc ... de gesti\u00f3n y visualizaci\u00f3n de datos, para ello se seguir\u00e1 el siguiente flujo de trabajo:\n",
      "\n",
      "* Generacion de una bateria de datos que simulen el comportamiento temporal y geogr\u00e1fico de los usuarios y administraciones\n",
      "* Tratamiento de estos datos por parte de pandas\n",
      "* Visualizaci\u00f3n de los datos con gr\u00e1ficas matplotlib\n",
      "* An\u00e1lisis de los datos y busqueda de regularidades e hitos \n",
      "\n",
      "En una siguiente fase se intentar\u00e1 trabajar con datos reales, por ejemplo con datos de accidentes de tr\u00e1fico sacados de alguna web oficial o del twitter (#accidente) para detectar posibles puntos negros"
     ]
    },
    {
     "cell_type": "code",
     "collapsed": false,
     "input": [
      "# Importando las librerias necesarias\n",
      "\n",
      "from pylab import *\n",
      "import matplotlib.pyplot as plt\n",
      "from mpl_toolkits.basemap import Basemap\n",
      "import math\n",
      "import numpy as np\n",
      "import random\n",
      "from datetime import datetime\n",
      "import pandas as pd"
     ],
     "language": "python",
     "metadata": {},
     "outputs": [
      {
       "output_type": "stream",
       "stream": "stderr",
       "text": [
        "/usr/lib/pymodules/python2.7/mpl_toolkits/__init__.py:2: UserWarning: Module dap was already imported from None, but /usr/lib/python2.7/dist-packages is being added to sys.path\n",
        "  __import__('pkg_resources').declare_namespace(__name__)\n"
       ]
      }
     ],
     "prompt_number": 1
    },
    {
     "cell_type": "code",
     "collapsed": false,
     "input": [
      "%pylab inline"
     ],
     "language": "python",
     "metadata": {},
     "outputs": [
      {
       "output_type": "stream",
       "stream": "stdout",
       "text": [
        "Populating the interactive namespace from numpy and matplotlib\n"
       ]
      },
      {
       "output_type": "stream",
       "stream": "stderr",
       "text": [
        "WARNING: pylab import has clobbered these variables: ['linalg', 'draw_if_interactive', 'random', 'datetime', 'fft', 'save', 'load', 'power', 'info']\n",
        "`%pylab --no-import-all` prevents importing * from pylab and numpy\n"
       ]
      }
     ],
     "prompt_number": 2
    },
    {
     "cell_type": "markdown",
     "metadata": {},
     "source": [
      "## Generando Datasets de prueba \n",
      "\n",
      "Cada usuario, cuando manda un aviso da la siguiente informaci\u00f3n:\n",
      "\n",
      "* n\u00famero de telefono\n",
      "* localizaci\u00f3n (longitud y latitud geogr\u00e1fica)\n",
      "* fecha y hora\n",
      "* voto (+1 o -1 seg\u00fan sea positivo o negativo)\n",
      "* comentario\n",
      "* foto\n",
      "\n",
      "Vamos a generar un dataset de prueba suponiendo que han llegado 150 votaciones en un intervalo temporal de un a\u00f1o.\n",
      "Se supone adem\u00e1s que un mismo usuario puede mandar muchos votos, incluso del mismo lugar (esto luego tendr\u00e1 que ser filtrado por el sistema para dejar solo un voto por usuario y lugar), aunque nada impide que un usuario mande m\u00e1s de un voto, siempre que sean de distintos lugares .\n",
      "\n",
      "Aunque la mayor\u00eda de los 150 votos sean aleatorios, se generar\u00e1n algunos votos con coordenadas fijas correspondientes a dos ciudades, Sevilla y Madrid. Con mayoria de votos positivos en Sevilla y mayoria de negativos en Madrid.\n",
      "\n",
      "En la siguiente serie temporal se cambiar\u00e1 esta tendencia y se intentar\u00e1 que el sistema detecte este cambio\n",
      "\n",
      "\n"
     ]
    },
    {
     "cell_type": "code",
     "collapsed": false,
     "input": [
      "import random\n",
      "from datetime import datetime\n",
      "\n",
      "def generaDatos(size, annoInicial, annoFinal, sesgoSevilla, sesgoMadrid):\n",
      "    \"\"\" Genera un dataset de prueba con la mitad de los datos aletorios y la otra mitad sesgados \"\"\"\n",
      "    # seed random generator\n",
      "    # if no argument provided\n",
      "    # uses system current time\n",
      "    random.seed()\n",
      "    \n",
      "    #Genero 100 telefonos distintos y como el tama\u00f1o de la muestra sera de 150 nos aseguramos la repeticion de usuarios\n",
      "    telefonos = ['600' +str(random.randint(123400,123499)) for _ in range(SAMPLE_SIZE)]\n",
      "    comentarios = ['']*SAMPLE_SIZE\n",
      "    fotos = ['']*SAMPLE_SIZE\n",
      "    \n",
      "    #Simulo la presencia de dos grandes ciudades: Madrid y Sevilla con un alto grado de incidencias \n",
      "    # (con la mitad de las incidencias entre las dos)\n",
      "    # La mitad de datos aleatorios\n",
      "    latitudes = [random.uniform(37, 42) for _ in range(SAMPLE_SIZE/2)] \n",
      "    longitudes = [random.uniform(-8, -2) for _ in range(SAMPLE_SIZE/2)]\n",
      "    # Un cuarto de datos de Sevilla\n",
      "    latitudes += [37.382 for _ in range(SAMPLE_SIZE/4)] \n",
      "    longitudes += [-5.982 for _ in range(SAMPLE_SIZE/4)]\n",
      "    # Un cuarto de datos de Madrid\n",
      "    latitudes += [40.115 for _ in range(SAMPLE_SIZE/4 + 1)] \n",
      "    longitudes += [-3.988 for _ in range(SAMPLE_SIZE/4 + 1)]\n",
      "    \n",
      "    # La mitad de datos aleatorios\n",
      "    votaciones = [random.choice([-1, 1]) for _ in range(SAMPLE_SIZE/2)]\n",
      "    \n",
      "    # Votaciones sesgadas hacia el positivo en el cuarto de datos de Sevilla\n",
      "    # Defino el dado cargado \n",
      "    media = 0.6\n",
      "    desviacion_estandar = 0.2\n",
      "    votaciones += [ sesgoSevilla if random.normalvariate(media, desviacion_estandar) >= 0.5 else -1 for _ in range(SAMPLE_SIZE/4)]\n",
      "    # Votaciones sesgadas hacia el negativo en el cuarto de datos de Madrid\n",
      "    votaciones += [ sesgoMadrid if random.normalvariate(media, desviacion_estandar) >= 0.5 else 1 for _ in range(SAMPLE_SIZE/4 + 1)]\n",
      "    \n",
      "    fechas = [datetime(random.randint(annoInicial,annoFinal), random.randint(1,12), random.randint(1,28)) for _ in range(SAMPLE_SIZE)]\n",
      "    \n",
      "    return {'telefono' : telefonos,'fecha' : fechas,'voto': votaciones, 'comentario' : comentarios, 'foto' :fotos, \n",
      "            'coordenadas':zip(longitudes,latitudes)}\n",
      "\n",
      "datosAnno1 = generaDatos(150,2012,2013,1,-1)\n",
      "\n",
      "print datosAnno1['voto'][:9]\n",
      "print datosAnno1['voto'][75:100]\n",
      "print datosAnno1['voto'][100:125]\n",
      "print \"\"\n",
      "print datosAnno1['coordenadas'][70:90]\n",
      "print datosAnno1['coordenadas'][100:120]\n"
     ],
     "language": "python",
     "metadata": {},
     "outputs": [
      {
       "output_type": "stream",
       "stream": "stdout",
       "text": [
        "[-1, -1, 1, 1, 1, -1, 1, 1, 1]\n",
        "[1, 1, 1, 1, -1, 1, 1, 1, 1, 1, 1, 1, -1, 1, -1, -1, 1, 1, -1, -1, 1, 1, 1, 1, 1]\n",
        "[-1, 1, 1, 1, -1, -1, 1, -1, 1, 1, 1, 1, -1, -1, -1, -1, 1, -1, 1, -1, -1, 1, 1, -1, -1]\n",
        "\n",
        "[(-3.613000234087451, 39.77618636621756), (-2.1836808747713494, 39.67563115403133), (-7.2454994911413015, 37.10516198792293), (-6.433475584681636, 38.661395233192444), (-3.753842439940761, 39.61681301423878), (-5.982, 37.382), (-5.982, 37.382), (-5.982, 37.382), (-5.982, 37.382), (-5.982, 37.382), (-5.982, 37.382), (-5.982, 37.382), (-5.982, 37.382), (-5.982, 37.382), (-5.982, 37.382), (-5.982, 37.382), (-5.982, 37.382), (-5.982, 37.382), (-5.982, 37.382), (-5.982, 37.382)]\n",
        "[(-5.982, 37.382), (-5.982, 37.382), (-5.982, 37.382), (-5.982, 37.382), (-5.982, 37.382), (-5.982, 37.382), (-5.982, 37.382), (-5.982, 37.382), (-5.982, 37.382), (-5.982, 37.382), (-5.982, 37.382), (-5.982, 37.382), (-3.988, 40.115), (-3.988, 40.115), (-3.988, 40.115), (-3.988, 40.115), (-3.988, 40.115), (-3.988, 40.115), (-3.988, 40.115), (-3.988, 40.115)]\n"
       ]
      }
     ],
     "prompt_number": 24
    },
    {
     "cell_type": "markdown",
     "metadata": {},
     "source": [
      "## Pasando los datos a Pandas "
     ]
    },
    {
     "cell_type": "code",
     "collapsed": false,
     "input": [
      "df1 = pd.DataFrame(datosAnno1)\n",
      "\n",
      "#Guardo los datos en un csv\n",
      "df1.to_csv('votaciones.csv')\n",
      "\n",
      "agrupados_por_coords = df1['voto'].groupby(df1['coordenadas'])\n",
      "coords_iguales = agrupados_por_coords.sum()\n",
      "\n",
      "print df['coordenadas'].values[:5]\n",
      "print \"\"\n",
      "print df['voto'].values[:5]\n",
      "print type(list(df['voto'].values))\n",
      "print type(df['coordenadas'].values)\n",
      "print coords_iguales[coords_iguales == coords_iguales[coords_iguales > 1].max()].index\n",
      "print coords_iguales[coords_iguales > 1].index\n",
      "print coords_iguales[coords_iguales > 1][0]\n",
      "print coords_iguales[(-3.988, 40.115)]\n",
      "print coords_iguales[coords_iguales > 1].max()"
     ],
     "language": "python",
     "metadata": {},
     "outputs": [
      {
       "output_type": "stream",
       "stream": "stdout",
       "text": [
        "[(-7.9378076848930315, 39.10744154604451)\n",
        " (-2.0409538577936575, 39.035661134349716)\n",
        " (-3.769712009588414, 39.00317857603626)\n",
        " (-5.151802316764789, 41.20692329151821)\n",
        " (-4.305244806079429, 41.82484651020688)]\n",
        "\n",
        "[-1  1  1  1 -1]\n",
        "<type 'list'>\n",
        "<type 'numpy.ndarray'>\n",
        "array([(-5.982, 37.382)], dtype=object)\n",
        "array([(-5.982, 37.382)], dtype=object)\n",
        "17.0\n",
        "-18.0\n",
        "17.0\n"
       ]
      }
     ],
     "prompt_number": 16
    },
    {
     "cell_type": "markdown",
     "metadata": {},
     "source": [
      "## Visualizando el Dataset"
     ]
    },
    {
     "cell_type": "code",
     "collapsed": false,
     "input": [
      "def mostrarDatosEnMapa(df):\n",
      "    # make sure the value of resolution is a lowercase L,\n",
      "    #  for 'low', not a numeral 1\n",
      "    map = Basemap(projection='merc', lat_0=40, lon_0=-4,\n",
      "        resolution = 'h', area_thresh = 200,\n",
      "        llcrnrlon=-11, llcrnrlat=35,\n",
      "        urcrnrlon=5.5, urcrnrlat=45)\n",
      "    \n",
      "    map.drawcoastlines()\n",
      "    map.drawcountries()\n",
      "    map.fillcontinents(color='#99ffff')\n",
      "    map.drawmapboundary()\n",
      "    \n",
      "    # zip is its own inverse! Provided you use the special * operator.\n",
      "    longitudes, latitudes = zip(*list(df['coordenadas'].values))\n",
      "    \n",
      "    #Marcando puntos\n",
      "    msize = 4\n",
      "    aumentador = 1\n",
      "    for lon, lat, voto in zip(longitudes,latitudes, list(df['voto'].values)):\n",
      "        x,y= map(lon, lat)\n",
      "        if (lon,lat) in coords_iguales[coords_iguales > 1].index:      \n",
      "            aumentador = 1 + 20*coords_iguales[(lon,lat)] / SAMPLE_SIZE\n",
      "        if voto == 1:\n",
      "            map.plot(x, y, 'go', markersize=msize*aumentador)\n",
      "        elif voto == -1:\n",
      "            map.plot(x, y, 'ro', markersize=msize*aumentador)\n",
      "        else:\n",
      "            map.plot(x, y, 'ko', markersize=msize)\n",
      "    \n",
      "    plt.show()\n",
      "\n",
      "mostrarDatosEnMapa(df1)\n"
     ],
     "language": "python",
     "metadata": {},
     "outputs": [
      {
       "metadata": {},
       "output_type": "display_data",
       "png": "[encoded data removed]",
       "text": [
        "<matplotlib.figure.Figure at 0x9dae2ac>"
       ]
      }
     ],
     "prompt_number": 26
    },
    {
     "cell_type": "markdown",
     "metadata": {},
     "source": [
      "## Sorteos"
     ]
    },
    {
     "cell_type": "code",
     "collapsed": false,
     "input": [
      "# Premio al usuario\n",
      "print df.ix[random.randint(0,SAMPLE_SIZE)]\n",
      "print \"\"\n",
      "# Premio al lugar que mayores puntos positivos tenga\n",
      "print coords_iguales[coords_iguales == coords_iguales[coords_iguales > 1].max()].index"
     ],
     "language": "python",
     "metadata": {},
     "outputs": [
      {
       "output_type": "stream",
       "stream": "stdout",
       "text": [
        "comentario                        \n",
        "coordenadas       (-3.988, 40.115)\n",
        "fecha          2012-06-16 00:00:00\n",
        "foto                              \n",
        "telefono                 600123439\n",
        "voto                            -1\n",
        "Name: 120\n",
        "\n",
        "array([(-5.982, 37.382)], dtype=object)\n"
       ]
      }
     ],
     "prompt_number": 22
    },
    {
     "cell_type": "markdown",
     "metadata": {},
     "source": [
      "## Siguiente a\u00f1o del Sorteo\n"
     ]
    },
    {
     "cell_type": "code",
     "collapsed": false,
     "input": [
      "datosAnno2 = generaDatos(150,2014,2015,1,-1)\n",
      "\n",
      "print datosAnno2['voto'][:9]\n",
      "print datosAnno2['voto'][75:100]\n",
      "print datosAnno2['voto'][100:125]\n",
      "print \"\"\n",
      "print datosAnno2['coordenadas'][70:90]\n",
      "print datosAnno2['coordenadas'][100:120]"
     ],
     "language": "python",
     "metadata": {},
     "outputs": [
      {
       "output_type": "stream",
       "stream": "stdout",
       "text": [
        "[1, 1, 1, -1, -1, 1, 1, 1, -1]\n",
        "[1, 1, -1, 1, -1, 1, 1, -1, 1, 1, 1, -1, 1, 1, 1, 1, -1, -1, 1, 1, 1, -1, -1, 1, 1]\n",
        "[-1, 1, 1, 1, 1, 1, 1, 1, 1, -1, 1, 1, 1, 1, -1, -1, -1, 1, -1, 1, -1, -1, 1, -1, -1]\n",
        "\n",
        "[(-4.355484832166887, 39.483903565582445), (-3.6449560319262524, 38.464166771361135), (-5.500327350870908, 40.92447190251657), (-4.702884370127974, 41.480487610313354), (-4.848083446485681, 37.14377287004458), (-5.982, 37.382), (-5.982, 37.382), (-5.982, 37.382), (-5.982, 37.382), (-5.982, 37.382), (-5.982, 37.382), (-5.982, 37.382), (-5.982, 37.382), (-5.982, 37.382), (-5.982, 37.382), (-5.982, 37.382), (-5.982, 37.382), (-5.982, 37.382), (-5.982, 37.382), (-5.982, 37.382)]\n",
        "[(-5.982, 37.382), (-5.982, 37.382), (-5.982, 37.382), (-5.982, 37.382), (-5.982, 37.382), (-5.982, 37.382), (-5.982, 37.382), (-5.982, 37.382), (-5.982, 37.382), (-5.982, 37.382), (-5.982, 37.382), (-5.982, 37.382), (-3.988, 40.115), (-3.988, 40.115), (-3.988, 40.115), (-3.988, 40.115), (-3.988, 40.115), (-3.988, 40.115), (-3.988, 40.115), (-3.988, 40.115)]\n"
       ]
      }
     ],
     "prompt_number": 25
    },
    {
     "cell_type": "markdown",
     "metadata": {},
     "source": [
      "## Paso los datos del segundo a\u00f1o  a Pandas y los visualizo"
     ]
    },
    {
     "cell_type": "code",
     "collapsed": false,
     "input": [
      "df2 = pd.DataFrame(datosAnno2)\n",
      "mostrarDatosEnMapa(df2)"
     ],
     "language": "python",
     "metadata": {},
     "outputs": [
      {
       "metadata": {},
       "output_type": "display_data",
       "png": "[encoded data removed]",
       "text": [
        "<matplotlib.figure.Figure at 0x9bab74c>"
       ]
      }
     ],
     "prompt_number": 27
    },
    {
     "cell_type": "markdown",
     "metadata": {},
     "source": [
      "## Estudio de la evolucion temporal de los datos"
     ]
    },
    {
     "cell_type": "code",
     "collapsed": false,
     "input": [
      "data = {'telefono': telefonos,\n",
      "        'coordenadas':zip(longitudes,latitudes),\n",
      "        'voto':votaciones,\n",
      "        'fecha':fechas,\n",
      "        'foto': fotos,\n",
      "        'comentario': comentarios}\n",
      "\n",
      "df = pd.DataFrame(data, columns=['telefono','coordenadas','voto','fecha'])\n",
      "\n",
      "#Guardo los datos en un csv\n",
      "df.to_csv('votaciones.csv')\n",
      "\n",
      "agrupados_por_coords = df['voto'].groupby(df['coordenadas'])\n",
      "coords_iguales = agrupados_por_coords.sum()\n",
      "\n",
      "fig = plt.figure()\n",
      "ax = fig.add_subplot(1, 1, 1)\n",
      "\n",
      "data = df['voto'].cumsum()\n",
      "data.plot(ax=ax)\n",
      "\n",
      "\n",
      "\n"
     ],
     "language": "python",
     "metadata": {},
     "outputs": []
    },
    {
     "cell_type": "code",
     "collapsed": false,
     "input": [],
     "language": "python",
     "metadata": {},
     "outputs": []
    }
   ],
   "metadata": {}
  }
 ]
}