{
 "metadata": {
  "name": ""
 },
 "nbformat": 3,
 "nbformat_minor": 0,
 "worksheets": [
  {
   "cells": [
    {
     "cell_type": "markdown",
     "metadata": {},
     "source": [
      "# Proyecto A4A (Access for All), an\u00e1lisis de datos con iPython\n",
      "\n",
      "La idea principal de A4A es la de conseguir datos de accesivilidad que sean subidos por los propios usuarios a una plataforma.\n",
      "Los puntos de inter\u00e9s seran de dos tipos : de accesivilidad positiva o negativa.\n",
      "\n",
      "A los usuarios se les incentiva con unos premios, de tal manera que el que mande mas items ser\u00e1 el que tenga m\u00e1s posibilidades de ganar.\n",
      "Tambi\u00e9n se les dar\u00e1n premios a las administraciones (ciudades o pueblos) que tengan mejores estad\u00edsticas.\n",
      "\n",
      "Esta idea seria f\u00e1cilmente exportable a otro tipo de \u00e1mbitos: puntos negros en carreteras por ejemplo.\n",
      "\n"
     ]
    },
    {
     "cell_type": "markdown",
     "metadata": {},
     "source": [
      "## Motivaci\u00f3n de este notebook\n",
      "\n",
      "La principal motivacion de este notebook es la de practicar las herramientas pandas, matplotlib, etc ... de gesti\u00f3n y visualizaci\u00f3n de datos, para ello se seguir\u00e1 el siguiente flujo de trabajo:\n",
      "\n",
      "* Generacion de una bateria de datos que simulen el comportamiento temporal y geogr\u00e1fico de los usuarios y administraciones\n",
      "* Tratamiento de estos datos por parte de pandas\n",
      "* Visualizaci\u00f3n de los datos con gr\u00e1ficas matplotlib\n",
      "* An\u00e1lisis de los datos y busqueda de regularidades e hitos \n",
      "\n",
      "En una siguiente fase se intentar\u00e1 trabajar con datos reales, por ejemplo con datos de accidentes de tr\u00e1fico sacados de alguna web oficial o del twitter (#accidente) para detectar posibles puntos negros"
     ]
    },
    {
     "cell_type": "code",
     "collapsed": false,
     "input": [
      "# Importando las librerias necesarias\n",
      "\n",
      "from pylab import *\n",
      "import matplotlib.pyplot as plt\n",
      "from mpl_toolkits.basemap import Basemap\n",
      "import math\n",
      "import numpy as np\n",
      "import random\n",
      "from datetime import datetime\n",
      "import pandas as pd"
     ],
     "language": "python",
     "metadata": {},
     "outputs": [
      {
       "output_type": "stream",
       "stream": "stderr",
       "text": [
        "/usr/lib/pymodules/python2.7/mpl_toolkits/__init__.py:2: UserWarning: Module dap was already imported from None, but /usr/lib/python2.7/dist-packages is being added to sys.path\n",
        "  __import__('pkg_resources').declare_namespace(__name__)\n"
       ]
      }
     ],
     "prompt_number": 1
    },
    {
     "cell_type": "code",
     "collapsed": false,
     "input": [
      "%pylab inline"
     ],
     "language": "python",
     "metadata": {},
     "outputs": [
      {
       "output_type": "stream",
       "stream": "stdout",
       "text": [
        "Populating the interactive namespace from numpy and matplotlib\n"
       ]
      },
      {
       "output_type": "stream",
       "stream": "stderr",
       "text": [
        "WARNING: pylab import has clobbered these variables: ['linalg', 'draw_if_interactive', 'random', 'datetime', 'fft', 'save', 'load', 'power', 'info']\n",
        "`%pylab --no-import-all` prevents importing * from pylab and numpy\n"
       ]
      }
     ],
     "prompt_number": 2
    },
    {
     "cell_type": "markdown",
     "metadata": {},
     "source": [
      "## Generando Datasets de prueba \n",
      "\n",
      "Cada usuario, cuando manda un aviso da la siguiente informaci\u00f3n:\n",
      "\n",
      "* n\u00famero de telefono\n",
      "* localizaci\u00f3n (longitud y latitud geogr\u00e1fica)\n",
      "* fecha y hora\n",
      "* voto (+1 o -1 seg\u00fan sea positivo o negativo)\n",
      "* comentario\n",
      "* foto\n",
      "\n",
      "Vamos a generar un dataset de prueba suponiendo que han llegado 150 votaciones en un intervalo temporal de un a\u00f1o.\n",
      "Se supone adem\u00e1s que un mismo usuario puede mandar muchos votos, incluso del mismo lugar (esto luego tendr\u00e1 que ser filtrado por el sistema para dejar solo un voto por usuario y lugar), aunque nada impide que un usuario mande m\u00e1s de un voto, siempre que sean de distintos lugares .\n",
      "\n",
      "Aunque la mayor\u00eda de los 150 votos sean aleatorios, se generar\u00e1n algunos votos con coordenadas fijas correspondientes a dos ciudades, Sevilla y Madrid. Con mayoria de votos positivos en Sevilla y mayoria de negativos en Madrid.\n",
      "\n",
      "En la siguiente serie temporal se cambiar\u00e1 esta tendencia y se intentar\u00e1 que el sistema detecte este cambio\n",
      "\n",
      "\n"
     ]
    },
    {
     "cell_type": "code",
     "collapsed": false,
     "input": [
      "NUM_VOTOS = 150"
     ],
     "language": "python",
     "metadata": {},
     "outputs": [],
     "prompt_number": 9
    },
    {
     "cell_type": "code",
     "collapsed": false,
     "input": [
      "import random\n",
      "from datetime import datetime\n",
      "\n",
      "def generaDatos(size, annoInicial, annoFinal, sesgoSevilla, sesgoMadrid):\n",
      "    \"\"\" Genera un dataset de prueba con la mitad de los datos aletorios y la otra mitad sesgados \"\"\"\n",
      "    # seed random generator\n",
      "    # if no argument provided\n",
      "    # uses system current time\n",
      "    random.seed()\n",
      "    \n",
      "    #Genero 100 telefonos distintos y como el tama\u00f1o de la muestra sera de 150 nos aseguramos la repeticion de usuarios\n",
      "    telefonos = ['600' +str(random.randint(123400,123499)) for _ in range(size)]\n",
      "    comentarios = ['']*size\n",
      "    fotos = ['']*size\n",
      "    \n",
      "    #Simulo la presencia de dos grandes ciudades: Madrid y Sevilla con un alto grado de incidencias \n",
      "    # (con la mitad de las incidencias entre las dos)\n",
      "    # La mitad de datos aleatorios\n",
      "    latitudes = [random.uniform(37, 42) for _ in range(size/2)] \n",
      "    longitudes = [random.uniform(-8, -2) for _ in range(size/2)]\n",
      "    # Un cuarto de datos de Sevilla\n",
      "    latitudes += [37.382 for _ in range(size/4)] \n",
      "    longitudes += [-5.982 for _ in range(size/4)]\n",
      "    # Un cuarto de datos de Madrid\n",
      "    latitudes += [40.115 for _ in range(size/4 + 1)] \n",
      "    longitudes += [-3.988 for _ in range(size/4 + 1)]\n",
      "    \n",
      "    # La mitad de datos aleatorios\n",
      "    votaciones = [random.choice([-1, 1]) for _ in range(size/2)]\n",
      "    \n",
      "    # Votaciones sesgadas hacia el positivo en el cuarto de datos de Sevilla\n",
      "    # Defino el dado cargado \n",
      "    media = 0.7\n",
      "    desviacion_estandar = 0.4\n",
      "    votaciones += [ sesgoSevilla if random.normalvariate(media, desviacion_estandar) >= 0.5 else -1 for _ in range(size/4)]\n",
      "    # Votaciones sesgadas hacia el negativo en el cuarto de datos de Madrid\n",
      "    votaciones += [ sesgoMadrid if random.normalvariate(media, desviacion_estandar) >= 0.5 else 1 for _ in range(size/4 + 1)]\n",
      "    \n",
      "    fechas = [datetime(random.randint(annoInicial,annoFinal), random.randint(1,12), random.randint(1,28)) for _ in range(size)]\n",
      "    \n",
      "    return {'telefono' : telefonos,'fecha' : fechas,'voto': votaciones, 'comentario' : comentarios, 'foto' :fotos, \n",
      "            'coordenadas':zip(longitudes,latitudes)}\n",
      "\n",
      "datosAnno1 = generaDatos(NUM_VOTOS,2012,2013,1,-1)\n",
      "\n",
      "print datosAnno1['voto'][:9]\n",
      "print datosAnno1['voto'][75:100]\n",
      "print datosAnno1['voto'][100:125]\n",
      "print \"\"\n",
      "print datosAnno1['coordenadas'][70:90]\n",
      "print datosAnno1['coordenadas'][100:120]\n"
     ],
     "language": "python",
     "metadata": {},
     "outputs": [
      {
       "output_type": "stream",
       "stream": "stdout",
       "text": [
        "[1, 1, -1, 1, -1, 1, -1, -1, -1]\n",
        "[1, -1, 1, 1, 1, 1, -1, 1, 1, 1, 1, -1, 1, -1, -1, 1, 1, 1, -1, 1, 1, -1, 1, 1, -1]\n",
        "[1, 1, -1, 1, -1, 1, 1, 1, -1, 1, 1, -1, -1, -1, 1, -1, -1, 1, -1, -1, -1, -1, 1, 1, -1]\n",
        "\n",
        "[(-6.284652444278844, 39.10345517622659), (-6.732974789888034, 40.588752837838), (-2.4224869720497466, 39.77842596579806), (-6.079279916385214, 38.62848573207633), (-3.1659555130263026, 38.484063282331626), (-5.982, 37.382), (-5.982, 37.382), (-5.982, 37.382), (-5.982, 37.382), (-5.982, 37.382), (-5.982, 37.382), (-5.982, 37.382), (-5.982, 37.382), (-5.982, 37.382), (-5.982, 37.382), (-5.982, 37.382), (-5.982, 37.382), (-5.982, 37.382), (-5.982, 37.382), (-5.982, 37.382)]\n",
        "[(-5.982, 37.382), (-5.982, 37.382), (-5.982, 37.382), (-5.982, 37.382), (-5.982, 37.382), (-5.982, 37.382), (-5.982, 37.382), (-5.982, 37.382), (-5.982, 37.382), (-5.982, 37.382), (-5.982, 37.382), (-5.982, 37.382), (-3.988, 40.115), (-3.988, 40.115), (-3.988, 40.115), (-3.988, 40.115), (-3.988, 40.115), (-3.988, 40.115), (-3.988, 40.115), (-3.988, 40.115)]\n"
       ]
      }
     ],
     "prompt_number": 3
    },
    {
     "cell_type": "markdown",
     "metadata": {},
     "source": [
      "## Pasando los datos a Pandas "
     ]
    },
    {
     "cell_type": "code",
     "collapsed": false,
     "input": [
      "df1 = pd.DataFrame(datosAnno1)\n",
      "\n",
      "#Guardo los datos en un csv\n",
      "df1.to_csv('votaciones.csv')\n",
      "\n",
      "agrupados_por_coords = df1['voto'].groupby(df1['coordenadas'])\n",
      "coords_iguales = agrupados_por_coords.sum()\n",
      "\n",
      "\n",
      "print \"\"\n",
      "print df1['voto'].values[:5]\n",
      "print \"\"\n",
      "print type(list(df1['voto'].values))\n",
      "print type(df1['coordenadas'].values)\n",
      "print coords_iguales[coords_iguales == coords_iguales[coords_iguales > 1].max()].index\n",
      "print coords_iguales[coords_iguales > 1].index\n",
      "print coords_iguales[coords_iguales > 1][0]\n",
      "print coords_iguales[(-3.988, 40.115)]\n",
      "print coords_iguales[coords_iguales > 1].max()\n",
      "df1['telefono'].value_counts()[:10].plot(kind='barh', rot=0)"
     ],
     "language": "python",
     "metadata": {},
     "outputs": [
      {
       "output_type": "stream",
       "stream": "stdout",
       "text": [
        "\n",
        "[ 1  1 -1  1 -1]\n",
        "\n",
        "<type 'list'>\n",
        "<type 'numpy.ndarray'>\n",
        "array([(-5.982, 37.382)], dtype=object)\n",
        "array([(-5.982, 37.382)], dtype=object)\n",
        "13.0\n",
        "-20.0\n",
        "13.0\n"
       ]
      },
      {
       "metadata": {},
       "output_type": "pyout",
       "prompt_number": 4,
       "text": [
        "<matplotlib.axes.AxesSubplot at 0xa7da44c>"
       ]
      },
      {
       "metadata": {},
       "output_type": "display_data",
       "png": "[encoded data removed]",
       "text": [
        "<matplotlib.figure.Figure at 0xa81ff8c>"
       ]
      }
     ],
     "prompt_number": 4
    },
    {
     "cell_type": "code",
     "collapsed": false,
     "input": [
      "#Vistazo rapido al dataframe\n",
      "print pd.DataFrame(df1, columns=['coordenadas','voto','telefono'])[:5]\n",
      "print \"\"\n",
      "\n",
      "#Datos ordenados por votos\n",
      "print df1.groupby('coordenadas')['voto'].size().order(ascending=False)[:5]\n",
      "print \"\"\n",
      "\n",
      "# echamos un vistazo rapido a los datos a ver si se han generado como esperabamos:\n",
      "print df1['coordenadas'].value_counts()[:2]\n",
      "print df1['voto'].value_counts()[:2]\n",
      "print df1['telefono'].value_counts()[:2]\n",
      "print \"\"\n",
      "\n",
      "#Comprobamos el numero de votos de Madrid y Sevilla\n",
      "media_votos_por_coord = df1.groupby('coordenadas')['voto'].size() \n",
      "media_votos_por_coord = media_votos_por_coord[abs(media_votos_por_coord) != 1]\n",
      "print media_votos_por_coord\n",
      "print \"\"\n",
      "\n",
      "#Comprobamos los votos medios de Madrid y sevilla\n",
      "media_votos_por_coord = df1.groupby('coordenadas')['voto'].mean() \n",
      "media_votos_por_coord = media_votos_por_coord[abs(media_votos_por_coord) != 1]\n",
      "print media_votos_por_coord\n",
      "\n"
     ],
     "language": "python",
     "metadata": {},
     "outputs": [
      {
       "output_type": "stream",
       "stream": "stdout",
       "text": [
        "                                coordenadas  voto   telefono\n",
        "0   (-7.939328854969663, 39.13553273157285)     1  600123471\n",
        "1    (-5.708353895036705, 38.8438174153639)     1  600123401\n",
        "2    (-2.36124092262229, 40.34724703675688)    -1  600123484\n",
        "3  (-7.507299337315257, 40.522007547325444)     1  600123407\n",
        "4   (-7.603490684860678, 40.58012835112758)    -1  600123430\n",
        "\n",
        "coordenadas\n",
        "(-3.988, 40.115)                            38\n",
        "(-5.982, 37.382)                            37\n",
        "(-2.0566171745828976, 40.33487627217315)     1\n",
        "(-2.118010966855892, 40.715831069039545)     1\n",
        "(-2.153328949866589, 37.026386383110996)     1\n",
        "\n",
        "(-3.988, 40.115)    38\n",
        "(-5.982, 37.382)    37\n",
        "-1    83\n",
        " 1    67\n",
        "600123440    8\n",
        "600123472    5\n",
        "\n",
        "coordenadas\n",
        "(-5.982, 37.382)    37\n",
        "(-3.988, 40.115)    38\n",
        "\n",
        "coordenadas\n",
        "(-5.982, 37.382)    0.351351\n",
        "(-3.988, 40.115)   -0.526316\n"
       ]
      }
     ],
     "prompt_number": 5
    },
    {
     "cell_type": "markdown",
     "metadata": {},
     "source": [
      "## Reestructuraci\u00f3n del DataFrame para adecuarlo a las necesidades de nuestro an\u00e1lisis"
     ]
    },
    {
     "cell_type": "code",
     "collapsed": false,
     "input": [
      "# Pongo las coordenadas como indices y solo me interesan los votos netos\n",
      "df_coord = df1.pivot_table('voto', rows='coordenadas', aggfunc=sum)\n",
      "\n",
      "#Vistazo rapido al dataframe\n",
      "print type(df_coord)\n",
      "print \"\"\n",
      "\n",
      "print df_coord.values\n",
      "print \"\"\n",
      "\n",
      "print df_coord.index[:5]\n",
      "print \"\"\n",
      "\n",
      "print pd.DataFrame(df_coord)\n",
      "print \"\"\n"
     ],
     "language": "python",
     "metadata": {},
     "outputs": [
      {
       "output_type": "stream",
       "stream": "stdout",
       "text": [
        "<class 'pandas.core.series.Series'>\n",
        "\n",
        "[ -1   1   1   1  -1  -1  -1   1   1   1  -1   1   1  -1  -1  -1  -1   1\n",
        "   1  -1   1   1   1  -1  -1  -1   1  -1  -1   1  13   1   1  -1  -1  -1\n",
        "   1  -1   1  -1  -1   1  -1  -1  -1   1   1  -1  -1  -1  -1   1 -20   1\n",
        "   1   1   1  -1   1  -1   1  -1  -1  -1   1   1  -1   1  -1  -1  -1  -1\n",
        "  -1  -1   1  -1  -1]\n",
        "\n",
        "array([(-7.962154470037234, 38.332769817220424),\n",
        "       (-7.939328854969663, 39.13553273157285),\n",
        "       (-7.923173200078191, 39.826420090497805),\n",
        "       (-7.840924114060105, 41.74558271653533),\n",
        "       (-7.750444364496361, 40.433928412194106)], dtype=object)\n",
        "\n",
        "                                           voto\n",
        "coordenadas                                    \n",
        "(-7.962154470037234, 38.332769817220424)     -1\n",
        "(-7.939328854969663, 39.13553273157285)       1\n",
        "(-7.923173200078191, 39.826420090497805)      1\n",
        "(-7.840924114060105, 41.74558271653533)       1\n",
        "(-7.750444364496361, 40.433928412194106)     -1\n",
        "(-7.744585994129216, 40.196735898471275)     -1\n",
        "(-7.603490684860678, 40.58012835112758)      -1\n",
        "(-7.5440985793185815, 38.68150409252173)      1\n",
        "(-7.507299337315257, 40.522007547325444)      1\n",
        "(-7.360240353541745, 39.312704262248616)      1\n",
        "(-7.212954625588946, 37.4798071244782)       -1\n",
        "(-7.120536877299459, 37.04069112256484)       1\n",
        "(-7.064415619062138, 37.683510514905734)      1\n",
        "(-7.044039570807358, 41.10689338752605)      -1\n",
        "(-7.01646067326271, 38.65341878526271)       -1\n",
        "(-7.012311373177539, 37.97927118931875)      -1\n",
        "(-6.9923399516256275, 41.764924962335265)    -1\n",
        "(-6.732974789888034, 40.588752837838)         1\n",
        "(-6.661856247137488, 40.35507105583082)       1\n",
        "(-6.6542151985626425, 38.09369206491153)     -1\n",
        "(-6.632984737907584, 37.05815907994844)       1\n",
        "(-6.553659071237298, 39.90221746079898)       1\n",
        "(-6.410065749085388, 39.014041716805764)      1\n",
        "(-6.3450755624494635, 37.195378418253604)    -1\n",
        "(-6.292667872762346, 37.48958475444755)      -1\n",
        "(-6.284652444278844, 39.10345517622659)      -1\n",
        "(-6.093433505276822, 40.18587533475748)       1\n",
        "(-6.08817412847936, 41.776877638115636)      -1\n",
        "(-6.079279916385214, 38.62848573207633)      -1\n",
        "(-6.064292986775178, 37.78858421956325)       1\n",
        "(-5.982, 37.382)                             13\n",
        "(-5.897402863398054, 39.28315894089741)       1\n",
        "(-5.888702352858008, 41.443098836447675)      1\n",
        "(-5.861642738646216, 38.19411384128587)      -1\n",
        "(-5.842905544695257, 39.94279053466998)      -1\n",
        "(-5.777722822907698, 41.18764794870134)      -1\n",
        "(-5.708353895036705, 38.8438174153639)        1\n",
        "(-5.552597505866962, 40.103453703712496)     -1\n",
        "(-5.456659433024705, 37.10008569366371)       1\n",
        "(-5.422761075995131, 37.67218582113527)      -1\n",
        "(-5.300180377566988, 41.647624858489024)     -1\n",
        "(-5.242602190577341, 40.335620419585176)      1\n",
        "(-5.2175060758958836, 38.69508778379864)     -1\n",
        "(-5.186912053759663, 37.27284877092632)      -1\n",
        "(-5.0656944141453755, 40.254763175660685)    -1\n",
        "(-4.962747269622099, 39.6700392863276)        1\n",
        "(-4.923773441012525, 40.38771008978075)       1\n",
        "(-4.902913708649334, 37.26570568012673)      -1\n",
        "(-4.832104861541465, 39.988518406139754)     -1\n",
        "(-4.32623920644653, 39.02853778575391)       -1\n",
        "(-4.304798063721115, 41.22094689451577)      -1\n",
        "(-4.272434716368646, 39.08592246707229)       1\n",
        "(-3.988, 40.115)                            -20\n",
        "(-3.954023078274627, 38.631430160490716)      1\n",
        "(-3.8340683772908406, 41.379525390980945)     1\n",
        "(-3.828870289777335, 38.99682825933903)       1\n",
        "(-3.7678703975341543, 40.743323831118204)     1\n",
        "(-3.7152874319939926, 38.717657292451484)    -1\n",
        "(-3.6788618530946735, 37.29784617797162)      1\n",
        "(-3.593142222672502, 39.0832399127429)       -1\n",
        "(-3.431978015703274, 39.18249100996937)       1\n",
        "(-3.4271200652165934, 41.32495436595707)     -1\n",
        "(-3.3251934974821022, 39.230675888436565)    -1\n",
        "(-3.1659555130263026, 38.484063282331626)    -1\n",
        "(-3.1043598068008347, 41.146004842608896)     1\n",
        "(-3.060743245064419, 41.11312734976411)       1\n",
        "(-2.927951579771835, 37.71286973771327)      -1\n",
        "(-2.829465676090366, 40.55500090137822)       1\n",
        "(-2.8030604443162144, 41.74168597039878)     -1\n",
        "(-2.4224869720497466, 39.77842596579806)     -1\n",
        "(-2.36124092262229, 40.34724703675688)       -1\n",
        "(-2.205880669284876, 37.56794046719039)      -1\n",
        "(-2.1975399349071427, 38.77063954618514)     -1\n",
        "(-2.1955658748334805, 39.28588813073232)     -1\n",
        "(-2.153328949866589, 37.026386383110996)      1\n",
        "(-2.118010966855892, 40.715831069039545)     -1\n",
        "(-2.0566171745828976, 40.33487627217315)     -1\n",
        "\n"
       ]
      }
     ],
     "prompt_number": 6
    },
    {
     "cell_type": "markdown",
     "metadata": {},
     "source": [
      "## Visualizando el Dataset"
     ]
    },
    {
     "cell_type": "code",
     "collapsed": false,
     "input": [
      "def mostrarDatosEnMapa(df):\n",
      "    # make sure the value of resolution is a lowercase L,\n",
      "    #  for 'low', not a numeral 1\n",
      "    map = Basemap(projection='merc', lat_0=40, lon_0=-4,\n",
      "        resolution = 'h', area_thresh = 200,\n",
      "        llcrnrlon=-11, llcrnrlat=35,\n",
      "        urcrnrlon=5.5, urcrnrlat=45)\n",
      "    \n",
      "    map.drawcoastlines()\n",
      "    map.drawcountries()\n",
      "    map.fillcontinents(color='#99ffff')\n",
      "    map.drawmapboundary()\n",
      "    msize = 6\n",
      "    \n",
      "    for c,v in zip(df_coord.index, df_coord.values):\n",
      "        x,y= map(c[0], c[1])\n",
      "        if v == 1:\n",
      "            map.plot(x, y, 'go', markersize=msize*v)\n",
      "        elif v >1:\n",
      "            map.plot(x, y, 'go', markersize=msize*(v*100/NUM_VOTOS))\n",
      "        elif v == -1:\n",
      "            map.plot(x, y, 'ro', markersize=msize*abs(v))\n",
      "        elif v < -1:\n",
      "            map.plot(x, y, 'ro', markersize=msize*abs(v*100/NUM_VOTOS))\n",
      "        else:\n",
      "            map.plot(x, y, 'ko', markersize=msize)\n",
      "            \n",
      "    plt.show()\n",
      "\n",
      "mostrarDatosEnMapa(df1)\n",
      "            \n",
      "    \n",
      "    \n"
     ],
     "language": "python",
     "metadata": {},
     "outputs": [
      {
       "metadata": {},
       "output_type": "display_data",
       "png": "[encoded data removed]",
       "text": [
        "<matplotlib.figure.Figure at 0xab38b0c>"
       ]
      }
     ],
     "prompt_number": 12
    },
    {
     "cell_type": "markdown",
     "metadata": {},
     "source": [
      "## Sorteos"
     ]
    },
    {
     "cell_type": "code",
     "collapsed": false,
     "input": [
      "# Premio al usuario\n",
      "print df.ix[random.randint(0,SAMPLE_SIZE)]\n",
      "print \"\"\n",
      "# Premio al lugar que mayores puntos positivos tenga\n",
      "print coords_iguales[coords_iguales == coords_iguales[coords_iguales > 1].max()].index"
     ],
     "language": "python",
     "metadata": {},
     "outputs": [
      {
       "ename": "NameError",
       "evalue": "name 'df' is not defined",
       "output_type": "pyerr",
       "traceback": [
        "\u001b[1;31m---------------------------------------------------------------------------\u001b[0m\n\u001b[1;31mNameError\u001b[0m                                 Traceback (most recent call last)",
        "\u001b[1;32m<ipython-input-8-3ccc8ccd9cf4>\u001b[0m in \u001b[0;36m<module>\u001b[1;34m()\u001b[0m\n\u001b[0;32m      1\u001b[0m \u001b[1;31m# Premio al usuario\u001b[0m\u001b[1;33m\u001b[0m\u001b[1;33m\u001b[0m\u001b[0m\n\u001b[1;32m----> 2\u001b[1;33m \u001b[1;32mprint\u001b[0m \u001b[0mdf\u001b[0m\u001b[1;33m.\u001b[0m\u001b[0mix\u001b[0m\u001b[1;33m[\u001b[0m\u001b[0mrandom\u001b[0m\u001b[1;33m.\u001b[0m\u001b[0mrandint\u001b[0m\u001b[1;33m(\u001b[0m\u001b[1;36m0\u001b[0m\u001b[1;33m,\u001b[0m\u001b[0mSAMPLE_SIZE\u001b[0m\u001b[1;33m)\u001b[0m\u001b[1;33m]\u001b[0m\u001b[1;33m\u001b[0m\u001b[0m\n\u001b[0m\u001b[0;32m      3\u001b[0m \u001b[1;32mprint\u001b[0m \u001b[1;34m\"\"\u001b[0m\u001b[1;33m\u001b[0m\u001b[0m\n\u001b[0;32m      4\u001b[0m \u001b[1;31m# Premio al lugar que mayores puntos positivos tenga\u001b[0m\u001b[1;33m\u001b[0m\u001b[1;33m\u001b[0m\u001b[0m\n\u001b[0;32m      5\u001b[0m \u001b[1;32mprint\u001b[0m \u001b[0mcoords_iguales\u001b[0m\u001b[1;33m[\u001b[0m\u001b[0mcoords_iguales\u001b[0m \u001b[1;33m==\u001b[0m \u001b[0mcoords_iguales\u001b[0m\u001b[1;33m[\u001b[0m\u001b[0mcoords_iguales\u001b[0m \u001b[1;33m>\u001b[0m \u001b[1;36m1\u001b[0m\u001b[1;33m]\u001b[0m\u001b[1;33m.\u001b[0m\u001b[0mmax\u001b[0m\u001b[1;33m(\u001b[0m\u001b[1;33m)\u001b[0m\u001b[1;33m]\u001b[0m\u001b[1;33m.\u001b[0m\u001b[0mindex\u001b[0m\u001b[1;33m\u001b[0m\u001b[0m\n",
        "\u001b[1;31mNameError\u001b[0m: name 'df' is not defined"
       ]
      }
     ],
     "prompt_number": 8
    },
    {
     "cell_type": "markdown",
     "metadata": {},
     "source": [
      "## Siguiente a\u00f1o del Sorteo\n"
     ]
    },
    {
     "cell_type": "code",
     "collapsed": false,
     "input": [
      "datosAnno2 = generaDatos(150,2014,2015,1,-1)\n",
      "\n",
      "print datosAnno2['voto'][:9]\n",
      "print datosAnno2['voto'][75:100]\n",
      "print datosAnno2['voto'][100:125]\n",
      "print \"\"\n",
      "print datosAnno2['coordenadas'][70:90]\n",
      "print datosAnno2['coordenadas'][100:120]"
     ],
     "language": "python",
     "metadata": {},
     "outputs": []
    },
    {
     "cell_type": "markdown",
     "metadata": {},
     "source": [
      "## Paso los datos del segundo a\u00f1o  a Pandas y los visualizo"
     ]
    },
    {
     "cell_type": "code",
     "collapsed": false,
     "input": [
      "df2 = pd.DataFrame(datosAnno2)\n",
      "mostrarDatosEnMapa(df2)"
     ],
     "language": "python",
     "metadata": {},
     "outputs": []
    },
    {
     "cell_type": "markdown",
     "metadata": {},
     "source": [
      "## Estudio de la evolucion temporal de los datos"
     ]
    },
    {
     "cell_type": "code",
     "collapsed": false,
     "input": [
      "data = {'telefono': telefonos,\n",
      "        'coordenadas':zip(longitudes,latitudes),\n",
      "        'voto':votaciones,\n",
      "        'fecha':fechas,\n",
      "        'foto': fotos,\n",
      "        'comentario': comentarios}\n",
      "\n",
      "df = pd.DataFrame(data, columns=['telefono','coordenadas','voto','fecha'])\n",
      "\n",
      "#Guardo los datos en un csv\n",
      "df.to_csv('votaciones.csv')\n",
      "\n",
      "agrupados_por_coords = df['voto'].groupby(df['coordenadas'])\n",
      "coords_iguales = agrupados_por_coords.sum()\n",
      "\n",
      "fig = plt.figure()\n",
      "ax = fig.add_subplot(1, 1, 1)\n",
      "\n",
      "data = df['voto'].cumsum()\n",
      "data.plot(ax=ax)\n",
      "\n",
      "\n",
      "\n"
     ],
     "language": "python",
     "metadata": {},
     "outputs": []
    },
    {
     "cell_type": "code",
     "collapsed": false,
     "input": [],
     "language": "python",
     "metadata": {},
     "outputs": []
    }
   ],
   "metadata": {}
  }
 ]
}